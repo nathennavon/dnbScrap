{
 "cells": [
  {
   "cell_type": "code",
   "execution_count": 1,
   "metadata": {},
   "outputs": [],
   "source": [
    "import numpy as np, pandas as pd\n",
    "from selenium import webdriver\n",
    "from bs4 import BeautifulSoup\n",
    "import requests\n",
    "from time import sleep\n",
    "\n",
    "from scrapy.selector import Selector\n",
    "from scrapy.http import HtmlResponse"
   ]
  },
  {
   "cell_type": "code",
   "execution_count": 2,
   "metadata": {},
   "outputs": [],
   "source": [
    "#Industry Results\n",
    "\n",
    "homeURL = 'https://www.dnb.com/business-directory/company-information.janitorial-carpet-cleaning-services.us.html?page=1'\n",
    "\n",
    "driver = webdriver.Chrome()\n",
    "driver.get(homeURL)\n",
    "\n",
    "html = driver.page_source\n",
    "soup = BeautifulSoup(html, 'lxml')\n",
    "\n",
    "links = [i.get('href') for i in soup.find_all('a')]\n",
    "\n",
    "driver.close()\n",
    "\n",
    "linksClean = [] \n",
    "for i in links: \n",
    "    if i != None : \n",
    "        linksClean.append(i)\n",
    "        "
   ]
  },
  {
   "cell_type": "code",
   "execution_count": 5,
   "metadata": {},
   "outputs": [
    {
     "name": "stdout",
     "output_type": "stream",
     "text": [
      "53\n"
     ]
    },
    {
     "data": {
      "text/plain": [
       "['https://www.dnb.com//business-directory/company-information.janitorial-carpet-cleaning-services.us.florida.html?page=1',\n",
       " 'https://www.dnb.com//business-directory/company-information.janitorial-carpet-cleaning-services.us.california.html?page=1',\n",
       " 'https://www.dnb.com//business-directory/company-information.janitorial-carpet-cleaning-services.us.texas.html?page=1',\n",
       " 'https://www.dnb.com//business-directory/company-information.janitorial-carpet-cleaning-services.us.new_york.html?page=1',\n",
       " 'https://www.dnb.com//business-directory/company-information.janitorial-carpet-cleaning-services.us.georgia.html?page=1',\n",
       " 'https://www.dnb.com//business-directory/company-information.janitorial-carpet-cleaning-services.us.pennsylvania.html?page=1',\n",
       " 'https://www.dnb.com//business-directory/company-information.janitorial-carpet-cleaning-services.us.ohio.html?page=1',\n",
       " 'https://www.dnb.com//business-directory/company-information.janitorial-carpet-cleaning-services.us.north_carolina.html?page=1',\n",
       " 'https://www.dnb.com//business-directory/company-information.janitorial-carpet-cleaning-services.us.virginia.html?page=1',\n",
       " 'https://www.dnb.com//business-directory/company-information.janitorial-carpet-cleaning-services.us.michigan.html?page=1',\n",
       " 'https://www.dnb.com//business-directory/company-information.janitorial-carpet-cleaning-services.us.illinois.html?page=1',\n",
       " 'https://www.dnb.com//business-directory/company-information.janitorial-carpet-cleaning-services.us.new_jersey.html?page=1',\n",
       " 'https://www.dnb.com//business-directory/company-information.janitorial-carpet-cleaning-services.us.washington.html?page=1',\n",
       " 'https://www.dnb.com//business-directory/company-information.janitorial-carpet-cleaning-services.us.arizona.html?page=1',\n",
       " 'https://www.dnb.com//business-directory/company-information.janitorial-carpet-cleaning-services.us.colorado.html?page=1',\n",
       " 'https://www.dnb.com//business-directory/company-information.janitorial-carpet-cleaning-services.us.maryland.html?page=1',\n",
       " 'https://www.dnb.com//business-directory/company-information.janitorial-carpet-cleaning-services.us.oregon.html?page=1',\n",
       " 'https://www.dnb.com//business-directory/company-information.janitorial-carpet-cleaning-services.us.tennessee.html?page=1',\n",
       " 'https://www.dnb.com//business-directory/company-information.janitorial-carpet-cleaning-services.us.indiana.html?page=1',\n",
       " 'https://www.dnb.com//business-directory/company-information.janitorial-carpet-cleaning-services.us.massachusetts.html?page=1',\n",
       " 'https://www.dnb.com//business-directory/company-information.janitorial-carpet-cleaning-services.us.missouri.html?page=1',\n",
       " 'https://www.dnb.com//business-directory/company-information.janitorial-carpet-cleaning-services.us.minnesota.html?page=1',\n",
       " 'https://www.dnb.com//business-directory/company-information.janitorial-carpet-cleaning-services.us.south_carolina.html?page=1',\n",
       " 'https://www.dnb.com//business-directory/company-information.janitorial-carpet-cleaning-services.us.wisconsin.html?page=1',\n",
       " 'https://www.dnb.com//business-directory/company-information.janitorial-carpet-cleaning-services.us.connecticut.html?page=1',\n",
       " 'https://www.dnb.com//business-directory/company-information.janitorial-carpet-cleaning-services.us.louisiana.html?page=1',\n",
       " 'https://www.dnb.com//business-directory/company-information.janitorial-carpet-cleaning-services.us.alabama.html?page=1',\n",
       " 'https://www.dnb.com//business-directory/company-information.janitorial-carpet-cleaning-services.us.nevada.html?page=1',\n",
       " 'https://www.dnb.com//business-directory/company-information.janitorial-carpet-cleaning-services.us.kentucky.html?page=1',\n",
       " 'https://www.dnb.com//business-directory/company-information.janitorial-carpet-cleaning-services.us.utah.html?page=1',\n",
       " 'https://www.dnb.com//business-directory/company-information.janitorial-carpet-cleaning-services.us.oklahoma.html?page=1',\n",
       " 'https://www.dnb.com//business-directory/company-information.janitorial-carpet-cleaning-services.us.iowa.html?page=1',\n",
       " 'https://www.dnb.com//business-directory/company-information.janitorial-carpet-cleaning-services.us.arkansas.html?page=1',\n",
       " 'https://www.dnb.com//business-directory/company-information.janitorial-carpet-cleaning-services.us.mississippi.html?page=1',\n",
       " 'https://www.dnb.com//business-directory/company-information.janitorial-carpet-cleaning-services.us.kansas.html?page=1',\n",
       " 'https://www.dnb.com//business-directory/company-information.janitorial-carpet-cleaning-services.us.idaho.html?page=1',\n",
       " 'https://www.dnb.com//business-directory/company-information.janitorial-carpet-cleaning-services.us.new_mexico.html?page=1',\n",
       " 'https://www.dnb.com//business-directory/company-information.janitorial-carpet-cleaning-services.us.nebraska.html?page=1',\n",
       " 'https://www.dnb.com//business-directory/company-information.janitorial-carpet-cleaning-services.us.new_hampshire.html?page=1',\n",
       " 'https://www.dnb.com//business-directory/company-information.janitorial-carpet-cleaning-services.us.montana.html?page=1',\n",
       " 'https://www.dnb.com//business-directory/company-information.janitorial-carpet-cleaning-services.us.alaska.html?page=1',\n",
       " 'https://www.dnb.com//business-directory/company-information.janitorial-carpet-cleaning-services.us.hawaii.html?page=1',\n",
       " 'https://www.dnb.com//business-directory/company-information.janitorial-carpet-cleaning-services.us.maine.html?page=1',\n",
       " 'https://www.dnb.com//business-directory/company-information.janitorial-carpet-cleaning-services.us.delaware.html?page=1',\n",
       " 'https://www.dnb.com//business-directory/company-information.janitorial-carpet-cleaning-services.us.rhode_island.html?page=1',\n",
       " 'https://www.dnb.com//business-directory/company-information.janitorial-carpet-cleaning-services.us.vermont.html?page=1',\n",
       " 'https://www.dnb.com//business-directory/company-information.janitorial-carpet-cleaning-services.us.west_virginia.html?page=1',\n",
       " 'https://www.dnb.com//business-directory/company-information.janitorial-carpet-cleaning-services.us.north_dakota.html?page=1',\n",
       " 'https://www.dnb.com//business-directory/company-information.janitorial-carpet-cleaning-services.us.south_dakota.html?page=1',\n",
       " 'https://www.dnb.com//business-directory/company-information.janitorial-carpet-cleaning-services.us.district_of_columbia.html?page=1',\n",
       " 'https://www.dnb.com//business-directory/company-information.janitorial-carpet-cleaning-services.us.wyoming.html?page=1',\n",
       " 'https://www.dnb.com//business-directory/company-information.janitorial-carpet-cleaning-services.us.puerto_rico.html?page=1',\n",
       " 'https://www.dnb.com//business-directory/company-information.janitorial-carpet-cleaning-services.us.united_states_virgin_islands.html?page=1']"
      ]
     },
     "execution_count": 5,
     "metadata": {},
     "output_type": "execute_result"
    }
   ],
   "source": [
    "#Industry Results by State\n",
    "\n",
    "stateURLs = []\n",
    "\n",
    "front = \"/business-directory/company-information.janitorial-carpet-cleaning-services.us.\"\n",
    "back = \".html?page=1\"\n",
    "\n",
    "for i in linksClean:\n",
    "    if (i.startswith(front) & i.endswith(back)):\n",
    "        stateURLs.append('https://www.dnb.com/' + i)\n",
    "\n",
    "print(len(stateURLs))\n",
    "stateURLs\n"
   ]
  },
  {
   "cell_type": "code",
   "execution_count": 30,
   "metadata": {},
   "outputs": [],
   "source": [
    "stateNames = []\n",
    "for url in stateURLs:\n",
    "    stateNames.append(url[99:-12])\n",
    "    \n",
    "top4States = stateNames[:4]"
   ]
  },
  {
   "cell_type": "code",
   "execution_count": null,
   "metadata": {},
   "outputs": [],
   "source": [
    "#Result Pages \n",
    "\n"
   ]
  },
  {
   "cell_type": "code",
   "execution_count": null,
   "metadata": {},
   "outputs": [],
   "source": [
    "#Company Pages "
   ]
  },
  {
   "cell_type": "code",
   "execution_count": 31,
   "metadata": {},
   "outputs": [
    {
     "data": {
      "text/plain": [
       "84"
      ]
     },
     "execution_count": 31,
     "metadata": {},
     "output_type": "execute_result"
    }
   ],
   "source": [
    "#Links of Firm results pages by state\n",
    "firmPageLinks = []\n",
    "for state in top4States:\n",
    "    for page in range(21):\n",
    "        firmPageLinks.append(f\"https://www.dnb.com/business-directory/company-information.janitorial-carpet-cleaning-services.us.{state}.html?page={page}\")\n",
    "        \n",
    "len(firmPageLinks)"
   ]
  },
  {
   "cell_type": "code",
   "execution_count": 38,
   "metadata": {
    "collapsed": true
   },
   "outputs": [
    {
     "data": {
      "text/plain": [
       "['https://www.dnb.com//business-directory/company-profiles.Diversified_Maintenance_Systems_LLC.3c67c36b74868e7732625cf3ca1cb0e0.html',\n",
       " 'https://www.dnb.com//business-directory/company-profiles.Swisher_Hygiene_Inc.845dc104f874e657a4a436fc211df5f1.html',\n",
       " 'https://www.dnb.com//business-directory/company-profiles.Harvard_Maintenance_Inc.670be15c984f536975dfd0e94b820aa3.html',\n",
       " 'https://www.dnb.com//business-directory/company-profiles.Sunshine_Cleaning_Systems_Inc.d8396c369b0f4450bf7d78cc04ed75d6.html',\n",
       " 'https://www.dnb.com//business-directory/company-profiles.Mansfield_Industrial_Inc.0affbbef1ad777fa2c55db2459d7ce45.html',\n",
       " 'https://www.dnb.com//business-directory/company-profiles.Restaurant_Lighting_Concepts_LLC.3d4a8d65e63186a0295ed0123bc384a8.html',\n",
       " 'https://www.dnb.com//business-directory/company-profiles.Americorp_Inc.fa3798bf2cef8c74ff247fd0a87fab9c.html',\n",
       " 'https://www.dnb.com//business-directory/company-profiles.SFM_Services_Inc.d44fa9787fbdac223a4d3cced8a4108e.html',\n",
       " 'https://www.dnb.com//business-directory/company-profiles.D__A_Building_Services_Inc.bcb3a1f7b0687fe0a090d11e392f810c.html',\n",
       " 'https://www.dnb.com//business-directory/company-profiles.Grosvenor_Building_Services_LLC.aec6bfbeec7fbc941e45a44308b3da18.html',\n",
       " 'https://www.dnb.com//business-directory/company-profiles.Facility_Services_of_America_Inc.8e38d11a5e256ce18ab116e2c7494f71.html',\n",
       " 'https://www.dnb.com//business-directory/company-profiles.Shamrock_Acquisition_Corp.0abace402ed7935f9fc4e535a99d915a.html',\n",
       " 'https://www.dnb.com//business-directory/company-profiles.Royal_Services_Inc.13fac30d4372ed676bb909dc30c578a9.html',\n",
       " 'https://www.dnb.com//business-directory/company-profiles.Harvard_Services_Group_Inc.a25ee00bf175e886d5c4a93133f1ac52.html',\n",
       " 'https://www.dnb.com//business-directory/company-profiles.National_Maintenance__Construction_Inc.c25e25014b34ef82e036c828c2963c9c.html',\n",
       " 'https://www.dnb.com//business-directory/company-profiles.Encompass_Onsite.9f19e823ede1675ea09b2a907968230e.html',\n",
       " 'https://www.dnb.com//business-directory/company-profiles.Dazser-Tpa_Corporation.b80dd5079e9b96db1e84000bdf1cfba3.html',\n",
       " 'https://www.dnb.com//business-directory/company-profiles.Future_Energy_Solutions_Lighting_Group_Lllp.fe7a304b7be505d85e12a14d6312bc54.html',\n",
       " 'https://www.dnb.com//business-directory/company-profiles.The_Service_Companies_Inc.92a62ae248c921da04d550e660c419a7.html',\n",
       " 'https://www.dnb.com//business-directory/company-profiles.Green_Earth_Building_Maintenance_Inc.57178f83c2d401e1b72eecfb4174a4f4.html',\n",
       " 'https://www.dnb.com//business-directory/company-profiles.AK_Building_Services_Inc.a0f3cc5b872b68b0bfef00234d0aa357.html',\n",
       " 'https://www.dnb.com//business-directory/company-profiles.A1_Orange_Cleaning_Service_Co_Inc.6f6421beb0b383fc3afd4a762aeb62bd.html',\n",
       " 'https://www.dnb.com//business-directory/company-profiles.Super_Restoration_Service_Co_LLC.625b4aabcb32db81ea49c5a46cd186dd.html',\n",
       " 'https://www.dnb.com//business-directory/company-profiles.Trusted_Hand_Service_Inc.abc7436103a12adb875f9395d2dc1fd2.html',\n",
       " 'https://www.dnb.com//business-directory/company-profiles.Action_Kleen_Systems_Inc.2296efe0c3560d55d04f775244607bff.html',\n",
       " 'https://www.dnb.com//business-directory/company-profiles.Clean_America_Corp.5f8e96d5c4246b93e3ba2d2edfb968eb.html',\n",
       " 'https://www.dnb.com//business-directory/company-profiles.Complete_Property_Maintenance_Inc.86f453ccde613cbb7938947186cde3e8.html',\n",
       " 'https://www.dnb.com//business-directory/company-profiles.Service_Keepers_Maintenance_Inc.bff0a6d6811f1faad17d87eae96c5114.html',\n",
       " 'https://www.dnb.com//business-directory/company-profiles.CHI-Ada_Corporation.f4ac55da867ef86b866faacf1e227c90.html',\n",
       " 'https://www.dnb.com//business-directory/company-profiles.Image_Janitorial_Services_Inc.1aecc04c0b5bea11f22f0ffa1eb784c9.html',\n",
       " 'https://www.dnb.com//business-directory/company-profiles.C_C__S_S_Inc.e493ca7b9a6fe1f5e092206e2af3890c.html',\n",
       " 'https://www.dnb.com//business-directory/company-profiles.At_Your_Service_Team_Enterprises_Inc.bd6f7a10b5b8bda4e95cc6ac8380a130.html',\n",
       " 'https://www.dnb.com//business-directory/company-profiles.Commercial_Services_Inc.4b991ff533d457dcb5a5c7b61a898a91.html',\n",
       " 'https://www.dnb.com//business-directory/company-profiles.Omni_Care_Group_Inc.9c77a7de49fca5de7c5912bfd178fd57.html',\n",
       " 'https://www.dnb.com//business-directory/company-profiles.Twilight_All_American_Cleaners_LLC.b697c7b950a9a6b41eba9bde1cda3e38.html',\n",
       " 'https://www.dnb.com//business-directory/company-profiles.Stanley_Steemer_of_South_Florida_Inc.1f585c8e795843aa34730b817a8d58f8.html',\n",
       " 'https://www.dnb.com//business-directory/company-profiles.Vista_Building_Maintenance_Services_Inc.8a3fad5f0a056e40a1e056a5af6633e7.html',\n",
       " 'https://www.dnb.com//business-directory/company-profiles.America_Service_Industries.4f3b6d046039271ab1effa614722696d.html',\n",
       " 'https://www.dnb.com//business-directory/company-profiles.Creative_Management_Technology_Inc.61acd96d6e00261ed66913ec81ef1785.html',\n",
       " 'https://www.dnb.com//business-directory/company-profiles.Crestwood_Services_Inc.7b4584050600d036739c142b180ffe93.html',\n",
       " 'https://www.dnb.com//business-directory/company-profiles.Profile_Services_Inc.126ca3c4df102d909340aed97854b429.html',\n",
       " 'https://www.dnb.com//business-directory/company-profiles.Maid_To_Order_FL_Inc.7bfe0d456ae069c368fe8a4f73a071b5.html',\n",
       " 'https://www.dnb.com//business-directory/company-profiles.Greene_Kleen_of_South_Florida_Inc.800769437a25d2cd6c2e3545385d2f30.html',\n",
       " 'https://www.dnb.com//business-directory/company-profiles.Star_Cleaning_Usa_Inc.a9d5afb1ca0985d001e3168b1aa52385.html',\n",
       " 'https://www.dnb.com//business-directory/company-profiles.Warjon_Inc.0120086f7a96dcaca89f76907e92c613.html',\n",
       " 'https://www.dnb.com//business-directory/company-profiles.Tamcare_Services_Inc.9cb4d757126c2ecceeef0bc09ab2de26.html',\n",
       " 'https://www.dnb.com//business-directory/company-profiles.Gellner_Enterprises_Inc.c6479b3323419057ed475f7da09aee60.html',\n",
       " 'https://www.dnb.com//business-directory/company-profiles.City_Facilities_Management_(fl)_LLC.ee6eb91c4d98eb207a393f462ec4a59c.html',\n",
       " 'https://www.dnb.com//business-directory/company-profiles.SFM_Janitorial_Services_LLC.9edac1d629e0bc91df6ab3cd65e4e69b.html',\n",
       " 'https://www.dnb.com//business-directory/company-profiles.Central_Florida_Facilities_Management_LLC.25f6395bc6e5dc82e02276e7a8e0de8e.html']"
      ]
     },
     "execution_count": 38,
     "metadata": {},
     "output_type": "execute_result"
    }
   ],
   "source": [
    "def pageFirms(url):\n",
    "    \n",
    "    driver = webdriver.Chrome()\n",
    "    driver.get(url)\n",
    "\n",
    "    html = driver.page_source\n",
    "    soup = BeautifulSoup(html, 'lxml')\n",
    " \n",
    "    \"\"\"Collects links to individual company pages\"\"\"\n",
    "\n",
    "    page_links = [i.get('href') for i in soup.find_all('a')]\n",
    "    \n",
    "    driver.close()\n",
    "\n",
    "    page_linksClean = [] \n",
    "    for i in page_links: \n",
    "        if i != None : \n",
    "            page_linksClean.append(i)\n",
    "        \n",
    "    profileLinks = []\n",
    "    for i in page_linksClean:\n",
    "        if i.startswith(\"/business-directory/company-profiles.\"):\n",
    "            profileLinks.append('https://www.dnb.com/' + i)\n",
    "\n",
    "    \n",
    "    return(profileLinks)\n",
    "    \n",
    "    \n",
    "fifty = pageFirms(firmPageLinks[1])\n",
    "len(fifty)"
   ]
  },
  {
   "cell_type": "code",
   "execution_count": 49,
   "metadata": {},
   "outputs": [],
   "source": []
  },
  {
   "cell_type": "code",
   "execution_count": 50,
   "metadata": {},
   "outputs": [
    {
     "ename": "WebDriverException",
     "evalue": "Message: unknown error: unhandled inspector error: {\"code\":-32000,\"message\":\"Cannot navigate to invalid URL\"}\n  (Session info: chrome=86.0.4240.111)\n  (Driver info: chromedriver=2.35.528157 (4429ca2590d6988c0745c24c8858745aaaec01ef),platform=Mac OS X 10.15.7 x86_64)\n",
     "output_type": "error",
     "traceback": [
      "\u001b[0;31m---------------------------------------------------------------------------\u001b[0m",
      "\u001b[0;31mWebDriverException\u001b[0m                        Traceback (most recent call last)",
      "\u001b[0;32m<ipython-input-50-9d458039f6be>\u001b[0m in \u001b[0;36m<module>\u001b[0;34m\u001b[0m\n\u001b[1;32m      5\u001b[0m \u001b[0;32mfor\u001b[0m \u001b[0mfirmLink\u001b[0m \u001b[0;32min\u001b[0m \u001b[0mfirmPageLinks\u001b[0m\u001b[0;34m[\u001b[0m\u001b[0;36m2\u001b[0m\u001b[0;34m]\u001b[0m\u001b[0;34m:\u001b[0m\u001b[0;34m\u001b[0m\u001b[0;34m\u001b[0m\u001b[0m\n\u001b[1;32m      6\u001b[0m \u001b[0;34m\u001b[0m\u001b[0m\n\u001b[0;32m----> 7\u001b[0;31m    \u001b[0mpageFirms\u001b[0m\u001b[0;34m(\u001b[0m\u001b[0mfirmLink\u001b[0m\u001b[0;34m)\u001b[0m\u001b[0;34m\u001b[0m\u001b[0;34m\u001b[0m\u001b[0m\n\u001b[0m\u001b[1;32m      8\u001b[0m \u001b[0;34m\u001b[0m\u001b[0m\n\u001b[1;32m      9\u001b[0m \u001b[0mprint\u001b[0m\u001b[0;34m(\u001b[0m\u001b[0mlen\u001b[0m\u001b[0;34m(\u001b[0m\u001b[0mfirmLinks\u001b[0m\u001b[0;34m)\u001b[0m\u001b[0;34m)\u001b[0m\u001b[0;34m\u001b[0m\u001b[0;34m\u001b[0m\u001b[0m\n",
      "\u001b[0;32m<ipython-input-38-51329ee8da81>\u001b[0m in \u001b[0;36mpageFirms\u001b[0;34m(url)\u001b[0m\n\u001b[1;32m      2\u001b[0m \u001b[0;34m\u001b[0m\u001b[0m\n\u001b[1;32m      3\u001b[0m     \u001b[0mdriver\u001b[0m \u001b[0;34m=\u001b[0m \u001b[0mwebdriver\u001b[0m\u001b[0;34m.\u001b[0m\u001b[0mChrome\u001b[0m\u001b[0;34m(\u001b[0m\u001b[0;34m)\u001b[0m\u001b[0;34m\u001b[0m\u001b[0;34m\u001b[0m\u001b[0m\n\u001b[0;32m----> 4\u001b[0;31m     \u001b[0mdriver\u001b[0m\u001b[0;34m.\u001b[0m\u001b[0mget\u001b[0m\u001b[0;34m(\u001b[0m\u001b[0murl\u001b[0m\u001b[0;34m)\u001b[0m\u001b[0;34m\u001b[0m\u001b[0;34m\u001b[0m\u001b[0m\n\u001b[0m\u001b[1;32m      5\u001b[0m \u001b[0;34m\u001b[0m\u001b[0m\n\u001b[1;32m      6\u001b[0m     \u001b[0mhtml\u001b[0m \u001b[0;34m=\u001b[0m \u001b[0mdriver\u001b[0m\u001b[0;34m.\u001b[0m\u001b[0mpage_source\u001b[0m\u001b[0;34m\u001b[0m\u001b[0;34m\u001b[0m\u001b[0m\n",
      "\u001b[0;32m~/anaconda3/lib/python3.8/site-packages/selenium/webdriver/remote/webdriver.py\u001b[0m in \u001b[0;36mget\u001b[0;34m(self, url)\u001b[0m\n\u001b[1;32m    331\u001b[0m         \u001b[0mLoads\u001b[0m \u001b[0ma\u001b[0m \u001b[0mweb\u001b[0m \u001b[0mpage\u001b[0m \u001b[0;32min\u001b[0m \u001b[0mthe\u001b[0m \u001b[0mcurrent\u001b[0m \u001b[0mbrowser\u001b[0m \u001b[0msession\u001b[0m\u001b[0;34m.\u001b[0m\u001b[0;34m\u001b[0m\u001b[0;34m\u001b[0m\u001b[0m\n\u001b[1;32m    332\u001b[0m         \"\"\"\n\u001b[0;32m--> 333\u001b[0;31m         \u001b[0mself\u001b[0m\u001b[0;34m.\u001b[0m\u001b[0mexecute\u001b[0m\u001b[0;34m(\u001b[0m\u001b[0mCommand\u001b[0m\u001b[0;34m.\u001b[0m\u001b[0mGET\u001b[0m\u001b[0;34m,\u001b[0m \u001b[0;34m{\u001b[0m\u001b[0;34m'url'\u001b[0m\u001b[0;34m:\u001b[0m \u001b[0murl\u001b[0m\u001b[0;34m}\u001b[0m\u001b[0;34m)\u001b[0m\u001b[0;34m\u001b[0m\u001b[0;34m\u001b[0m\u001b[0m\n\u001b[0m\u001b[1;32m    334\u001b[0m \u001b[0;34m\u001b[0m\u001b[0m\n\u001b[1;32m    335\u001b[0m     \u001b[0;34m@\u001b[0m\u001b[0mproperty\u001b[0m\u001b[0;34m\u001b[0m\u001b[0;34m\u001b[0m\u001b[0m\n",
      "\u001b[0;32m~/anaconda3/lib/python3.8/site-packages/selenium/webdriver/remote/webdriver.py\u001b[0m in \u001b[0;36mexecute\u001b[0;34m(self, driver_command, params)\u001b[0m\n\u001b[1;32m    319\u001b[0m         \u001b[0mresponse\u001b[0m \u001b[0;34m=\u001b[0m \u001b[0mself\u001b[0m\u001b[0;34m.\u001b[0m\u001b[0mcommand_executor\u001b[0m\u001b[0;34m.\u001b[0m\u001b[0mexecute\u001b[0m\u001b[0;34m(\u001b[0m\u001b[0mdriver_command\u001b[0m\u001b[0;34m,\u001b[0m \u001b[0mparams\u001b[0m\u001b[0;34m)\u001b[0m\u001b[0;34m\u001b[0m\u001b[0;34m\u001b[0m\u001b[0m\n\u001b[1;32m    320\u001b[0m         \u001b[0;32mif\u001b[0m \u001b[0mresponse\u001b[0m\u001b[0;34m:\u001b[0m\u001b[0;34m\u001b[0m\u001b[0;34m\u001b[0m\u001b[0m\n\u001b[0;32m--> 321\u001b[0;31m             \u001b[0mself\u001b[0m\u001b[0;34m.\u001b[0m\u001b[0merror_handler\u001b[0m\u001b[0;34m.\u001b[0m\u001b[0mcheck_response\u001b[0m\u001b[0;34m(\u001b[0m\u001b[0mresponse\u001b[0m\u001b[0;34m)\u001b[0m\u001b[0;34m\u001b[0m\u001b[0;34m\u001b[0m\u001b[0m\n\u001b[0m\u001b[1;32m    322\u001b[0m             response['value'] = self._unwrap_value(\n\u001b[1;32m    323\u001b[0m                 response.get('value', None))\n",
      "\u001b[0;32m~/anaconda3/lib/python3.8/site-packages/selenium/webdriver/remote/errorhandler.py\u001b[0m in \u001b[0;36mcheck_response\u001b[0;34m(self, response)\u001b[0m\n\u001b[1;32m    240\u001b[0m                 \u001b[0malert_text\u001b[0m \u001b[0;34m=\u001b[0m \u001b[0mvalue\u001b[0m\u001b[0;34m[\u001b[0m\u001b[0;34m'alert'\u001b[0m\u001b[0;34m]\u001b[0m\u001b[0;34m.\u001b[0m\u001b[0mget\u001b[0m\u001b[0;34m(\u001b[0m\u001b[0;34m'text'\u001b[0m\u001b[0;34m)\u001b[0m\u001b[0;34m\u001b[0m\u001b[0;34m\u001b[0m\u001b[0m\n\u001b[1;32m    241\u001b[0m             \u001b[0;32mraise\u001b[0m \u001b[0mexception_class\u001b[0m\u001b[0;34m(\u001b[0m\u001b[0mmessage\u001b[0m\u001b[0;34m,\u001b[0m \u001b[0mscreen\u001b[0m\u001b[0;34m,\u001b[0m \u001b[0mstacktrace\u001b[0m\u001b[0;34m,\u001b[0m \u001b[0malert_text\u001b[0m\u001b[0;34m)\u001b[0m\u001b[0;34m\u001b[0m\u001b[0;34m\u001b[0m\u001b[0m\n\u001b[0;32m--> 242\u001b[0;31m         \u001b[0;32mraise\u001b[0m \u001b[0mexception_class\u001b[0m\u001b[0;34m(\u001b[0m\u001b[0mmessage\u001b[0m\u001b[0;34m,\u001b[0m \u001b[0mscreen\u001b[0m\u001b[0;34m,\u001b[0m \u001b[0mstacktrace\u001b[0m\u001b[0;34m)\u001b[0m\u001b[0;34m\u001b[0m\u001b[0;34m\u001b[0m\u001b[0m\n\u001b[0m\u001b[1;32m    243\u001b[0m \u001b[0;34m\u001b[0m\u001b[0m\n\u001b[1;32m    244\u001b[0m     \u001b[0;32mdef\u001b[0m \u001b[0m_value_or_default\u001b[0m\u001b[0;34m(\u001b[0m\u001b[0mself\u001b[0m\u001b[0;34m,\u001b[0m \u001b[0mobj\u001b[0m\u001b[0;34m,\u001b[0m \u001b[0mkey\u001b[0m\u001b[0;34m,\u001b[0m \u001b[0mdefault\u001b[0m\u001b[0;34m)\u001b[0m\u001b[0;34m:\u001b[0m\u001b[0;34m\u001b[0m\u001b[0;34m\u001b[0m\u001b[0m\n",
      "\u001b[0;31mWebDriverException\u001b[0m: Message: unknown error: unhandled inspector error: {\"code\":-32000,\"message\":\"Cannot navigate to invalid URL\"}\n  (Session info: chrome=86.0.4240.111)\n  (Driver info: chromedriver=2.35.528157 (4429ca2590d6988c0745c24c8858745aaaec01ef),platform=Mac OS X 10.15.7 x86_64)\n"
     ]
    }
   ],
   "source": [
    "#Links of Firms by Page\n",
    "\n",
    "firmLinks = []\n",
    "\n",
    "for firmLink in firmPageLinks[2]:\n",
    "    \n",
    "   pageFirms(firmLink)\n",
    "    \n",
    "print(len(firmLinks))"
   ]
  },
  {
   "cell_type": "code",
   "execution_count": null,
   "metadata": {},
   "outputs": [],
   "source": [
    "class timeit():\n",
    "    from datetime import datetime\n",
    "    def __enter__(self):\n",
    "        self.tic = self.datetime.now()\n",
    "    def __exit__(self, *args, **kwargs):\n",
    "        print('runtime: {}'.format(self.datetime.now() - self.tic))\n",
    "\n",
    "# with timeit():\n",
    "#     for i in range(2):\n",
    "#         print(i)\n",
    "#         sleep(3)"
   ]
  },
  {
   "cell_type": "code",
   "execution_count": null,
   "metadata": {},
   "outputs": [],
   "source": []
  },
  {
   "cell_type": "code",
   "execution_count": null,
   "metadata": {},
   "outputs": [],
   "source": []
  },
  {
   "cell_type": "code",
   "execution_count": 33,
   "metadata": {},
   "outputs": [
    {
     "name": "stdout",
     "output_type": "stream",
     "text": [
      "55650\n",
      "4200\n"
     ]
    }
   ],
   "source": [
    "print(50 * 1113)\n",
    "print(50 * 84)"
   ]
  },
  {
   "cell_type": "code",
   "execution_count": null,
   "metadata": {},
   "outputs": [],
   "source": [
    "with open('mycsvfile.csv', 'w') as f: \n",
    "    w = csv.DictWriter(f, my_dict.keys())\n",
    "    w.writeheader()\n",
    "    w.writerow(my_dict)"
   ]
  },
  {
   "cell_type": "code",
   "execution_count": null,
   "metadata": {},
   "outputs": [],
   "source": []
  },
  {
   "cell_type": "code",
   "execution_count": null,
   "metadata": {},
   "outputs": [],
   "source": [
    "#Data Extractor - Firm Page\n",
    "\n",
    "thedict = {'Business_Name':[], 'Domain':[],'Revenue':[], 'Owner':[] }\n",
    "\n",
    "for page in XXXXXX:\n",
    "    \n",
    "    driver = webdriver.Chrome()\n",
    "    driver.get(page)\n",
    "\n",
    "    html = driver.page_source\n",
    "    soup = BeautifulSoup(html, 'lxml')\n",
    "    \n",
    "    thedict['Business_Name'].append(soup.find_all('h1')[0].text)\n",
    "    thedict['Domain'].append(Selector(text=html).xpath('//*[@id=\"hero-company-link\"]/text()').get())\n",
    "    thedict['Revenue'].append(Selector(text=html).xpath('//*[@id=\"content\"]/div[2]/div/div[3]/div/div/div/div/div[2]/div[1]/div[2]/text()').get())\n",
    "    thedict['Owner'].append(Selector(text=html).xpath('//*[@id=\"content\"]/div[2]/div/div[8]/div/div[2]/div[2]/div/div/div/ul/li[1]/div[1]/text()').get())\n",
    "    driver.close()\n",
    "\n",
    "\n",
    "    \n",
    "df = pd.DataFrame(thedict)\n",
    "df.to_csv('Janitorial_Industry.csv', index=False)\n",
    "df.head(8)"
   ]
  },
  {
   "cell_type": "code",
   "execution_count": null,
   "metadata": {},
   "outputs": [],
   "source": []
  },
  {
   "cell_type": "code",
   "execution_count": null,
   "metadata": {},
   "outputs": [],
   "source": []
  }
 ],
 "metadata": {
  "kernelspec": {
   "display_name": "Python 3",
   "language": "python",
   "name": "python3"
  },
  "language_info": {
   "codemirror_mode": {
    "name": "ipython",
    "version": 3
   },
   "file_extension": ".py",
   "mimetype": "text/x-python",
   "name": "python",
   "nbconvert_exporter": "python",
   "pygments_lexer": "ipython3",
   "version": "3.8.3"
  }
 },
 "nbformat": 4,
 "nbformat_minor": 4
}
