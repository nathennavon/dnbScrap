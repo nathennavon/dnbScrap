{
 "cells": [
  {
   "cell_type": "code",
   "execution_count": 107,
   "metadata": {},
   "outputs": [],
   "source": [
    "import numpy as np, pandas as pd\n",
    "from bs4 import BeautifulSoup\n",
    "import requests "
   ]
  },
  {
   "cell_type": "code",
   "execution_count": 180,
   "metadata": {},
   "outputs": [
    {
     "name": "stdout",
     "output_type": "stream",
     "text": [
      "Status Code: 200\n",
      "links: 50\n",
      "https://www.dnb.com//business-directory/company-profiles.merchants_building_maintenance_company.a9503c0147126e9df5c4c8a3def1c3b4.html\n"
     ]
    }
   ],
   "source": [
    "\"\"\"Takes a url and returns its soup\"\"\"\n",
    "\n",
    "def soupInit(url):\n",
    "    response = requests.get(url, headers={'user-agent': 'Mozilla/5.0 (Macintosh; Intel Mac OS X 10_15_7) AppleWebKit/537.36 (KHTML, like Gecko) Chrome/86.0.4240.111 Safari/537.36'})\n",
    "    html = response.text\n",
    "    soup = BeautifulSoup(html, 'lxml')\n",
    "    print ('Status Code:', response.status_code)\n",
    "    \n",
    "    return(soup)\n",
    "    \n",
    "\"\"\"Takes a soup object, startswith() url string, and returns a list of links\"\"\"\n",
    "\n",
    "def linkReturn(soup, startsWURL):\n",
    "    links = []\n",
    "\n",
    "    for link in soup.find_all('a'):\n",
    "        if (link.get('href') == None):\n",
    "            pass\n",
    "        elif (link.get('href').startswith(startsWURL)):\n",
    "            links.append('https://www.dnb.com/' + link.get('href'))\n",
    "            #print(link.get('href'))\n",
    "\n",
    "    print(\"links:\", len(links))\n",
    "    print(links[2])\n",
    "    \n",
    "    return(links)\n",
    "\n",
    "    \n",
    "    \n",
    "url = \"https://www.dnb.com//business-directory/company-information.janitorial-carpet-cleaning-services.us.california.html?page=1\"  \n",
    "startsWURL = \"/business-directory/company-profiles.\"  \n",
    "soup = soupInit(url)\n",
    "links = linkReturn(soup, startsWURL)"
   ]
  },
  {
   "cell_type": "code",
   "execution_count": null,
   "metadata": {},
   "outputs": [],
   "source": []
  },
  {
   "cell_type": "code",
   "execution_count": null,
   "metadata": {},
   "outputs": [],
   "source": []
  },
  {
   "cell_type": "code",
   "execution_count": 108,
   "metadata": {},
   "outputs": [
    {
     "name": "stdout",
     "output_type": "stream",
     "text": [
      "Status Code: 200\n"
     ]
    }
   ],
   "source": [
    "\"\"\"Initializing Soup\"\"\"\n",
    "\n",
    "url = 'https://www.dnb.com/business-directory/company-information.janitorial-carpet-cleaning-services.us.html?page=1'\n",
    "\n",
    "response = requests.get(url, headers={'user-agent': 'Mozilla/5.0 (Macintosh; Intel Mac OS X 10_15_7) AppleWebKit/537.36 (KHTML, like Gecko) Chrome/86.0.4240.111 Safari/537.36'})\n",
    "html = response.text\n",
    "soup = BeautifulSoup(html, 'lxml')\n",
    "\n",
    "print ('Status Code:', response.status_code)"
   ]
  },
  {
   "cell_type": "code",
   "execution_count": 110,
   "metadata": {},
   "outputs": [
    {
     "name": "stdout",
     "output_type": "stream",
     "text": [
      "States: 53\n"
     ]
    },
    {
     "data": {
      "text/plain": [
       "'https://www.dnb.com//business-directory/company-information.janitorial-carpet-cleaning-services.us.florida.html?page=1'"
      ]
     },
     "execution_count": 110,
     "metadata": {},
     "output_type": "execute_result"
    }
   ],
   "source": [
    "\"\"\"Industry search resutls: collects first page for each state of industry search results;\n",
    "        returns a list of links\"\"\"\n",
    "\n",
    "stateLinks = [ ]\n",
    "\n",
    "for link in soup.find_all('a'):\n",
    "    if (link.get('href') == None):\n",
    "        pass\n",
    "    elif (link.get('href').startswith(\"/business-directory/company-information.janitorial-carpet-cleaning-services.us.\")):\n",
    "        stateLinks.append('https://www.dnb.com/' + link.get('href'))\n",
    "        #print(link.get('href'))\n",
    "\n",
    "print(\"States:\", len(stateLinks))\n",
    "stateLinks[0]"
   ]
  },
  {
   "cell_type": "code",
   "execution_count": null,
   "metadata": {},
   "outputs": [],
   "source": []
  },
  {
   "cell_type": "code",
   "execution_count": 137,
   "metadata": {
    "scrolled": true
   },
   "outputs": [
    {
     "name": "stdout",
     "output_type": "stream",
     "text": [
      "https://www.dnb.com//business-directory/company-information.janitorial-carpet-cleaning-services.us.florida.html?page=1\n",
      "https://www.dnb.com//business-directory/company-information.janitorial-carpet-cleaning-services.us.california.html?page=1\n"
     ]
    }
   ],
   "source": [
    "\"\"\"atempting to manuall add page numbers to strings of urls and store it in a list of links\"\"\"\n",
    "for link in stateLinks[:2]:\n",
    "    link.strip(str(1))\n",
    "    print(link)\n",
    "    \n",
    "#     for n in range(1,11):\n",
    "#         link.strip(str(1))\n",
    "#         #link += str(n)\n",
    "#         print(link)\n"
   ]
  },
  {
   "cell_type": "code",
   "execution_count": 138,
   "metadata": {},
   "outputs": [
    {
     "data": {
      "text/plain": [
       "'https://www.dnb.com//business-directory/company-information.janitorial-carpet-cleaning-services.us.florida.html?page=1'"
      ]
     },
     "execution_count": 138,
     "metadata": {},
     "output_type": "execute_result"
    }
   ],
   "source": [
    "l = stateLinks[0]\n",
    "l.strip() "
   ]
  },
  {
   "cell_type": "code",
   "execution_count": 139,
   "metadata": {},
   "outputs": [
    {
     "data": {
      "text/plain": [
       "'https://www.dnb.com//business-directory/company-information.janitorial-carpet-cleaning-services.us.florida.html?page='"
      ]
     },
     "execution_count": 139,
     "metadata": {},
     "output_type": "execute_result"
    }
   ],
   "source": [
    "l.strip(str(1))"
   ]
  },
  {
   "cell_type": "code",
   "execution_count": null,
   "metadata": {},
   "outputs": [],
   "source": []
  },
  {
   "cell_type": "code",
   "execution_count": null,
   "metadata": {},
   "outputs": [],
   "source": []
  },
  {
   "cell_type": "code",
   "execution_count": null,
   "metadata": {},
   "outputs": [],
   "source": []
  },
  {
   "cell_type": "code",
   "execution_count": null,
   "metadata": {},
   "outputs": [],
   "source": []
  },
  {
   "cell_type": "code",
   "execution_count": 158,
   "metadata": {},
   "outputs": [
    {
     "name": "stdout",
     "output_type": "stream",
     "text": [
      "Status Code: 200\n"
     ]
    }
   ],
   "source": [
    "\"\"\"pulling data from company profile page\"\"\"\n",
    "\n",
    "url = 'https://www.dnb.com/business-directory/company-information.janitorial-carpet-cleaning-services.us.california.html?page=1'\n",
    "\n",
    "response = requests.get(url, headers={'user-agent': 'Mozilla/5.0 (Macintosh; Intel Mac OS X 10_15_7) AppleWebKit/537.36 (KHTML, like Gecko) Chrome/86.0.4240.111 Safari/537.36'})\n",
    "html = response.text\n",
    "soup = BeautifulSoup(html, 'lxml')\n",
    "\n",
    "print ('Status Code:', response.status_code)"
   ]
  },
  {
   "cell_type": "code",
   "execution_count": 167,
   "metadata": {},
   "outputs": [
    {
     "name": "stdout",
     "output_type": "stream",
     "text": [
      "Pages: 50\n"
     ]
    },
    {
     "data": {
      "text/plain": [
       "['https://www.dnb.com//business-directory/company-profiles.crown_building_maintenance_co.57f385ada5d2980e1c38ebd14837edb7.html',\n",
       " 'https://www.dnb.com//business-directory/company-profiles.flagship_enterprises_holding_inc.1afedfbf96b9d19607efcd0466fec2e6.html',\n",
       " 'https://www.dnb.com//business-directory/company-profiles.merchants_building_maintenance_company.a9503c0147126e9df5c4c8a3def1c3b4.html',\n",
       " 'https://www.dnb.com//business-directory/company-profiles.q_c_s_building_services_inc.5fa99409e4153803960aacc468d691c8.html',\n",
       " 'https://www.dnb.com//business-directory/company-profiles.metro_services_group.d69724fe5fe9e61987e3e73293a4a5f1.html']"
      ]
     },
     "execution_count": 167,
     "metadata": {},
     "output_type": "execute_result"
    }
   ],
   "source": [
    "companyPage = [ ]\n",
    "\n",
    "for link in soup.find_all('a'):\n",
    "    if (link.get('href') == None):\n",
    "        pass\n",
    "    elif (link.get('href').startswith(\"/business-directory/company-profiles.\")):\n",
    "        companyPage.append('https://www.dnb.com/' + link.get('href'))\n",
    "        #print(link.get('href'))\n",
    "\n",
    "print(\"Pages:\", len(companyPage))\n",
    "companyPage[0:5]"
   ]
  },
  {
   "cell_type": "code",
   "execution_count": null,
   "metadata": {},
   "outputs": [],
   "source": []
  },
  {
   "cell_type": "code",
   "execution_count": null,
   "metadata": {},
   "outputs": [],
   "source": []
  },
  {
   "cell_type": "code",
   "execution_count": null,
   "metadata": {},
   "outputs": [],
   "source": []
  },
  {
   "cell_type": "code",
   "execution_count": null,
   "metadata": {},
   "outputs": [],
   "source": []
  },
  {
   "cell_type": "code",
   "execution_count": null,
   "metadata": {},
   "outputs": [],
   "source": []
  },
  {
   "cell_type": "code",
   "execution_count": null,
   "metadata": {},
   "outputs": [],
   "source": []
  },
  {
   "cell_type": "code",
   "execution_count": null,
   "metadata": {},
   "outputs": [],
   "source": []
  },
  {
   "cell_type": "code",
   "execution_count": 102,
   "metadata": {},
   "outputs": [
    {
     "name": "stdout",
     "output_type": "stream",
     "text": [
      "https://www.dnb.com//business-directory/company-information.janitorial-carpet-cleaning-services.us.california.html/get?page=1&page=2&page=3&page=4&page=5&page=6&page=7&page=8&page=9&page=10\n"
     ]
    }
   ],
   "source": [
    "\"\"\"test nothing yet\"\"\"\n",
    "\n",
    "#payload = {'state': [california, florida, texas, new_york, colorado], 'page': range(1,11)}\n",
    "payload = {'page': range(1,11)}\n",
    "\n",
    "\n",
    "url = 'https://www.dnb.com//business-directory/company-information.janitorial-carpet-cleaning-services.us.california.html/get'\n",
    "#url = 'https://www.dnb.com/business-directory/company-information.janitorial-carpet-cleaning-services.us.california.html?page=1'\n",
    "\n",
    "response = requests.get(url, params=payload, headers={'user-agent': 'Mozilla/5.0 (Macintosh; Intel Mac OS X 10_15_7) AppleWebKit/537.36 (KHTML, like Gecko) Chrome/86.0.4240.111 Safari/537.36'})\n",
    "html = response.content\n",
    "soup = BeautifulSoup(html, 'lxml')\n",
    "\n",
    "print(response.url)\n",
    "#print(response.text)"
   ]
  },
  {
   "cell_type": "code",
   "execution_count": null,
   "metadata": {},
   "outputs": [],
   "source": []
  },
  {
   "cell_type": "code",
   "execution_count": 103,
   "metadata": {},
   "outputs": [],
   "source": [
    "response = requests.get(url, headers={'user-agent': 'Mozilla/5.0 (Macintosh; Intel Mac OS X 10_15_7) AppleWebKit/537.36 (KHTML, like Gecko) Chrome/86.0.4240.111 Safari/537.36'})\n",
    "html = response.content\n",
    "soup = BeautifulSoup(html, 'lxml')"
   ]
  }
 ],
 "metadata": {
  "kernelspec": {
   "display_name": "Python 3",
   "language": "python",
   "name": "python3"
  },
  "language_info": {
   "codemirror_mode": {
    "name": "ipython",
    "version": 3
   },
   "file_extension": ".py",
   "mimetype": "text/x-python",
   "name": "python",
   "nbconvert_exporter": "python",
   "pygments_lexer": "ipython3",
   "version": "3.8.3"
  }
 },
 "nbformat": 4,
 "nbformat_minor": 4
}
